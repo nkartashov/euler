{
 "cells": [
  {
   "cell_type": "code",
   "execution_count": 27,
   "metadata": {
    "scrolled": false
   },
   "outputs": [],
   "source": [
    "import numpy as np\n",
    "import matplotlib.pyplot as plt\n",
    "import tqdm\n",
    "\n",
    "from common import *"
   ]
  },
  {
   "cell_type": "code",
   "execution_count": 15,
   "metadata": {
    "collapsed": true
   },
   "outputs": [],
   "source": [
    "def quad1(n):\n",
    "    return n * n + n + 41\n",
    "\n",
    "def quad2(n):\n",
    "    return n * n - 79 * n + 1601"
   ]
  },
  {
   "cell_type": "code",
   "execution_count": 9,
   "metadata": {},
   "outputs": [
    {
     "name": "stdout",
     "output_type": "stream",
     "text": [
      "[1601 1523 1447 1373 1301 1231 1163 1097 1033  971  911  853  797  743  691\n",
      "  641  593  547  503  461  421  383  347  313  281  251  223  197  173  151\n",
      "  131  113   97   83   71   61   53   47   43   41   41   43   47   53   61\n",
      "   71   83   97  113  131  151  173  197  223  251  281  313  347  383  421\n",
      "  461  503  547  593  641  691  743  797  853  911  971 1033 1097 1163 1231\n",
      " 1301 1373 1447 1523 1601]\n"
     ]
    },
    {
     "data": {
      "image/png": "[encoded data removed]",
      "text/plain": [
       "<matplotlib.figure.Figure at 0x113b434e0>"
      ]
     },
     "metadata": {},
     "output_type": "display_data"
    }
   ],
   "source": [
    "xs1 = np.arange(0, 40)\n",
    "ys1 = quad1(xs1)\n",
    "xs2 = np.arange(0, 80)\n",
    "ys2 = quad2(xs2)\n",
    "plt.plot(xs1, ys1, 'r--', xs2, ys2, 'bs')\n",
    "plt.show()"
   ]
  },
  {
   "cell_type": "code",
   "execution_count": 28,
   "metadata": {},
   "outputs": [],
   "source": [
    "PRIMES_LESS_THAN_1K = eratos_primes(1001)\n",
    "PRIMES_LESS_THAN_2K = set(eratos_primes(2002))\n",
    "\n",
    "def count_consecutive_primes(a, b):\n",
    "    for i in range(0, 81):\n",
    "        p = i * i + a * i + b\n",
    "        if p not in PRIMES_LESS_THAN_2K:\n",
    "            return i\n",
    "    assert(False)\n",
    "    \n",
    "assert(count_consecutive_primes(1, 41) == 40)\n",
    "assert(count_consecutive_primes(-79, 1601) == 80)"
   ]
  },
  {
   "cell_type": "code",
   "execution_count": 29,
   "metadata": {
    "collapsed": true
   },
   "outputs": [],
   "source": [
    "# So we have an equation of the form n * n + a * n + b\n",
    "# From that follows that\n",
    "# 1) b - prime\n",
    "# 2) a + b + 1 - prime\n",
    "# As |a| <= 1000 && |b| <= 1000 we can just iterate over all primes <= 2001 given a chosen b\n",
    "def solve():\n",
    "    max_prime_value = max(PRIMES_LESS_THAN_2K)\n",
    "    result = 41\n",
    "    consecutive_primes = 40\n",
    "    for b in tqdm.tqdm(PRIMES_LESS_THAN_1K):\n",
    "        for p in PRIMES_LESS_THAN_2K:\n",
    "            a = p - b - 1\n",
    "            if abs(a) > 1000:\n",
    "                continue\n",
    "            new_count = count_consecutive_primes(a, b)\n",
    "            if new_count > consecutive_primes:\n",
    "                consecutive_primes = new_count\n",
    "                result = a * b\n",
    "    print(result)"
   ]
  },
  {
   "cell_type": "code",
   "execution_count": 26,
   "metadata": {},
   "outputs": [
    {
     "name": "stderr",
     "output_type": "stream",
     "text": [
      "100%|██████████| 168/168 [00:00<00:00, 1776.03it/s]"
     ]
    },
    {
     "name": "stdout",
     "output_type": "stream",
     "text": [
      "-59231\n"
     ]
    },
    {
     "name": "stderr",
     "output_type": "stream",
     "text": [
      "\n"
     ]
    }
   ],
   "source": [
    "solve()"
   ]
  }
 ],
 "metadata": {
  "kernelspec": {
   "display_name": "Python 3",
   "language": "python",
   "name": "python3"
  },
  "language_info": {
   "codemirror_mode": {
    "name": "ipython",
    "version": 3
   },
   "file_extension": ".py",
   "mimetype": "text/x-python",
   "name": "python",
   "nbconvert_exporter": "python",
   "pygments_lexer": "ipython3",
   "version": "3.6.3"
  }
 },
 "nbformat": 4,
 "nbformat_minor": 2
}
